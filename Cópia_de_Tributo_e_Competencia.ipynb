{
  "nbformat": 4,
  "nbformat_minor": 0,
  "metadata": {
    "colab": {
      "provenance": [],
      "include_colab_link": true
    },
    "kernelspec": {
      "name": "python3",
      "display_name": "Python 3"
    },
    "language_info": {
      "name": "python"
    }
  },
  "cells": [
    {
      "cell_type": "markdown",
      "metadata": {
        "id": "view-in-github",
        "colab_type": "text"
      },
      "source": [
        "<a href=\"https://colab.research.google.com/github/leonardo3422/big-data/blob/https%2Fcantina-senac.netlify.app/C%C3%B3pia_de_Tributo_e_Competencia.ipynb\" target=\"_parent\"><img src=\"https://colab.research.google.com/assets/colab-badge.svg\" alt=\"Open In Colab\"/></a>"
      ]
    },
    {
      "cell_type": "markdown",
      "source": [
        "## Equipe\n",
        "Mariana duarte\n",
        "\n",
        "Renan amendola\n",
        "\n",
        "Filipe aymar\n",
        "\n",
        "Gabriel Castelo\n",
        "\n",
        "Leonardo André\n",
        "\n",
        "Helenne Duarte"
      ],
      "metadata": {
        "id": "aFN5aJEJ8tEW"
      }
    },
    {
      "cell_type": "markdown",
      "source": [
        "## Contexto\n",
        "Este conjunto de dados contém as informações referentes à receita tributária auferida por diferentes recolhimentos que tenham características econômicas de tributo, nas diversas esferas de arrecadação e que resultem em um fluxo de recursos financeiros direcionados da sociedade para o Estado.\n",
        "\n",
        "Com base nessas informações, é possível realizar uma variedade de análises que oferecem insights valiosos para diferentes áreas de interesse:\n",
        "\n",
        "-- Evolução da Arrecadação Tributária ao Longo dos Anos: Ao analisar os dados ao longo do período de 2002 a 2021, é possível identificar tendências de crescimento, quedas ou estabilidade na arrecadação tributária em diferentes esferas de governo e tipos de tributos. Isso permite entender melhor a dinâmica da receita tributária ao longo do tempo e as influências econômicas e políticas que moldaram essas tendências.\n",
        "\n",
        "-- Comparação entre Diferentes Tipos de Tributos e Esferas de Arrecadação: É possível comparar a arrecadação de tributos federais, estaduais e municipais, bem como analisar a contribuição relativa de cada tipo de tributo para a receita total. Isso pode fornecer insights sobre a distribuição da carga tributária entre diferentes níveis de governo e setores da economia.\n",
        "\n",
        "-- Análise de Eficiência Fiscal: Ao examinar o percentual da receita tributária em relação ao Produto Interno Bruto (PIB) em cada ano, é possível avaliar a eficiência da arrecadação tributária em relação ao tamanho da economia. Isso pode ajudar a identificar áreas onde melhorias na eficiência fiscal são necessárias e avaliar o impacto das políticas tributárias na atividade econômica.\n",
        "\n",
        "-- Avaliações do Impacto Econômico da Arrecadação Tributária: Ao estudar a relação entre a arrecadação tributária e indicadores econômicos, como crescimento do PIB, emprego e investimento, é possível avaliar o impacto da tributação na economia como um todo. Isso pode fornecer insights importantes para a formulação de políticas econômicas e fiscais.\n",
        "\n",
        "Em resumo, o conjunto de dados \"Tributo e Competência\" oferece uma riqueza de informações que podem ser exploradas de várias maneiras para entender melhor a dinâmica da arrecadação tributária, avaliar a eficiência fiscal e analisar o impacto da tributação na economia. Essas análises podem ser úteis para formuladores de políticas públicas, pesquisadores, economistas e outros profissionais interessados em questões fiscais e econômicas."
      ],
      "metadata": {
        "id": "Uzvllx4h8Mpp"
      }
    },
    {
      "cell_type": "markdown",
      "source": [
        "## Exploração"
      ],
      "metadata": {
        "id": "3u-bBsUH89db"
      }
    },
    {
      "cell_type": "code",
      "execution_count": null,
      "metadata": {
        "colab": {
          "base_uri": "https://localhost:8080/"
        },
        "id": "HyrLRP_-t3nA",
        "outputId": "59b478cc-447e-425a-945e-e81c6d41ffa6"
      },
      "outputs": [
        {
          "output_type": "stream",
          "name": "stdout",
          "text": [
            "Collecting pyspark\n",
            "  Downloading pyspark-3.5.1.tar.gz (317.0 MB)\n",
            "\u001b[2K     \u001b[90m━━━━━━━━━━━━━━━━━━━━━━━━━━━━━━━━━━━━━━━━\u001b[0m \u001b[32m317.0/317.0 MB\u001b[0m \u001b[31m3.7 MB/s\u001b[0m eta \u001b[36m0:00:00\u001b[0m\n",
            "\u001b[?25h  Preparing metadata (setup.py) ... \u001b[?25l\u001b[?25hdone\n",
            "Requirement already satisfied: py4j==0.10.9.7 in /usr/local/lib/python3.10/dist-packages (from pyspark) (0.10.9.7)\n",
            "Building wheels for collected packages: pyspark\n",
            "  Building wheel for pyspark (setup.py) ... \u001b[?25l\u001b[?25hdone\n",
            "  Created wheel for pyspark: filename=pyspark-3.5.1-py2.py3-none-any.whl size=317488491 sha256=9aec9a7b26c5e6447d3dc4f59ca7bdf35853d43a4e1e5d7d1e78fb65e1061683\n",
            "  Stored in directory: /root/.cache/pip/wheels/80/1d/60/2c256ed38dddce2fdd93be545214a63e02fbd8d74fb0b7f3a6\n",
            "Successfully built pyspark\n",
            "Installing collected packages: pyspark\n",
            "Successfully installed pyspark-3.5.1\n"
          ]
        }
      ],
      "source": [
        "!pip install pyspark"
      ]
    },
    {
      "cell_type": "markdown",
      "source": [],
      "metadata": {
        "id": "E0-N7Rpi8n0w"
      }
    },
    {
      "cell_type": "code",
      "source": [
        "from pyspark.sql import SparkSession\n",
        "\n",
        "spark = SparkSession.builder \\\n",
        "    .appName(\"Tributo_Competencia\") \\\n",
        "    .getOrCreate()"
      ],
      "metadata": {
        "id": "uCTT2kTRu2x6"
      },
      "execution_count": null,
      "outputs": []
    },
    {
      "cell_type": "code",
      "source": [
        "import gdown\n",
        "import os\n",
        "\n",
        "url = 'https://docs.google.com/spreadsheets/d/e/2PACX-1vTBcBCB4vGSOwPz3tF3SOQw4quk9vggzHvG4mWk4dhvLkXFB-0dWvvINQ4qslNB3jYarnUdCG5ARrTu/pub?output=csv'\n",
        "output = 'data/tributocompetencia.csv'\n",
        "\n",
        "os.makedirs(os.path.dirname(output), exist_ok=True)\n",
        "\n",
        "gdown.download(url, output, quiet=False)\n"
      ],
      "metadata": {
        "colab": {
          "base_uri": "https://localhost:8080/",
          "height": 160
        },
        "id": "mImYCFQvvKDj",
        "outputId": "131132a6-fca5-4fe0-8400-6248335d7c33"
      },
      "execution_count": null,
      "outputs": [
        {
          "output_type": "stream",
          "name": "stderr",
          "text": [
            "/usr/local/lib/python3.10/dist-packages/gdown/parse_url.py:48: UserWarning: You specified a Google Drive link that is not the correct link to download a file. You might want to try `--fuzzy` option or the following url: https://drive.google.com/uc?id=None\n",
            "  warnings.warn(\n",
            "Downloading...\n",
            "From: https://docs.google.com/spreadsheets/d/e/2PACX-1vTBcBCB4vGSOwPz3tF3SOQw4quk9vggzHvG4mWk4dhvLkXFB-0dWvvINQ4qslNB3jYarnUdCG5ARrTu/pub?output=csv\n",
            "To: /content/data/tributocompetencia.csv\n",
            "102kB [00:00, 49.3MB/s]\n"
          ]
        },
        {
          "output_type": "execute_result",
          "data": {
            "text/plain": [
              "'data/tributocompetencia.csv'"
            ],
            "application/vnd.google.colaboratory.intrinsic+json": {
              "type": "string"
            }
          },
          "metadata": {},
          "execution_count": 3
        }
      ]
    },
    {
      "cell_type": "code",
      "source": [
        "# Lendo o arquivo CSV com PySpark\n",
        "df = spark.read.csv(output, header=True, inferSchema=True)\n",
        "\n",
        "# Mostrando as primeiras linhas do DataFrame para verificação\n",
        "df.show(5)"
      ],
      "metadata": {
        "colab": {
          "base_uri": "https://localhost:8080/"
        },
        "id": "9bHSoFtRvtwu",
        "outputId": "a7ef07ce-4e44-4728-9587-e27c91ecaf62"
      },
      "execution_count": null,
      "outputs": [
        {
          "output_type": "stream",
          "name": "stdout",
          "text": [
            "+--------------+--------------------+----------------+--------------------+---------------------------+-----------------+\n",
            "|Ano-calendário|         Competência|       Orçamento|           Descrição|Valor da Receita Tributária|Percentual do PIB|\n",
            "+--------------+--------------------+----------------+--------------------+---------------------------+-----------------+\n",
            "|          2002|Total dos Tributo...|           União|Total da Receita ...|                477725,6437|      0,320882411|\n",
            "|          2002|Tributos do Gover...|Orçamento Fiscal|Tributos do Gover...|                330496,8209|       0,22199063|\n",
            "|          2002|Tributos do Gover...|Orçamento Fiscal|    Orçamento Fiscal|                117337,9936|       0,07881448|\n",
            "|          2002|Tributos do Gover...|Orçamento Fiscal|Imposto de Renda ...|                83528,69112|       0,05610519|\n",
            "|          2002|Tributos do Gover...|Orçamento Fiscal|Imposto de Renda ...|                 4078,31919|      0,002739357|\n",
            "+--------------+--------------------+----------------+--------------------+---------------------------+-----------------+\n",
            "only showing top 5 rows\n",
            "\n"
          ]
        }
      ]
    },
    {
      "cell_type": "code",
      "source": [
        "# Contando o número de registros\n",
        "num_rows = df.count()\n",
        "print(f\"Quantidade de registros no dataset: {num_rows}\")\n"
      ],
      "metadata": {
        "colab": {
          "base_uri": "https://localhost:8080/"
        },
        "id": "x7PcspucwlVV",
        "outputId": "8bae15cf-c0c6-4e04-c412-844e938325fe"
      },
      "execution_count": null,
      "outputs": [
        {
          "output_type": "stream",
          "name": "stdout",
          "text": [
            "Quantidade de registros no dataset: 920\n"
          ]
        }
      ]
    },
    {
      "cell_type": "markdown",
      "source": [
        "Formatação dos valores"
      ],
      "metadata": {
        "id": "1PTuZJ7rx_Dc"
      }
    },
    {
      "cell_type": "markdown",
      "source": [
        "Agrupando por Ano-calendário e somando a Receita Tributária"
      ],
      "metadata": {
        "id": "whd0ni8pwosU"
      }
    },
    {
      "cell_type": "code",
      "source": [
        "from pyspark.sql import functions as F\n",
        "\n",
        "# Agrupando por Ano-calendário e somando a Receita Tributária\n",
        "df.groupBy(\"Ano-calendário\") \\\n",
        "  .agg(F.sum(\"Valor da Receita Tributária\").alias(\"Total Receita Tributária\")) \\\n",
        "  .orderBy(\"Ano-calendário\") \\\n",
        "  .show()\n"
      ],
      "metadata": {
        "colab": {
          "base_uri": "https://localhost:8080/"
        },
        "id": "JDXs5_62wm06",
        "outputId": "a6793bd7-d6c7-4153-d4e3-243206aff2d7"
      },
      "execution_count": null,
      "outputs": [
        {
          "output_type": "stream",
          "name": "stdout",
          "text": [
            "+--------------+------------------------+\n",
            "|Ano-calendário|Total Receita Tributária|\n",
            "+--------------+------------------------+\n",
            "|          2002|                    NULL|\n",
            "|          2003|                    NULL|\n",
            "|          2004|                    NULL|\n",
            "|          2005|                    NULL|\n",
            "|          2006|                    NULL|\n",
            "|          2007|                    NULL|\n",
            "|          2008|                    NULL|\n",
            "|          2009|                    NULL|\n",
            "|          2010|                    NULL|\n",
            "|          2011|                    NULL|\n",
            "|          2012|                    NULL|\n",
            "|          2013|                    NULL|\n",
            "|          2014|                    NULL|\n",
            "|          2015|                    NULL|\n",
            "|          2016|                    NULL|\n",
            "|          2017|                     0.0|\n",
            "|          2018|                    NULL|\n",
            "|          2019|                    NULL|\n",
            "|          2020|                    NULL|\n",
            "|          2021|                    NULL|\n",
            "+--------------+------------------------+\n",
            "\n"
          ]
        }
      ]
    },
    {
      "cell_type": "markdown",
      "source": [
        "Filtrando por Tributos do Governo Estadual e ordenando por Valor da Receita Tributária"
      ],
      "metadata": {
        "id": "fV1_7yfUwvS4"
      }
    },
    {
      "cell_type": "code",
      "source": [
        "# Filtrando por Tributos do Governo Estadual\n",
        "df.filter(df['Orçamento'] == 'Governo Estadual') \\\n",
        "  .orderBy(df['Valor da Receita Tributária'].desc()) \\\n",
        "  .show()\n"
      ],
      "metadata": {
        "colab": {
          "base_uri": "https://localhost:8080/"
        },
        "id": "X3AK7ogqwszQ",
        "outputId": "50cfd61e-1b5f-44a8-d24f-04a89327d9f1"
      },
      "execution_count": null,
      "outputs": [
        {
          "output_type": "stream",
          "name": "stdout",
          "text": [
            "+--------------+--------------------+----------------+--------------------+---------------------------+-----------------+\n",
            "|Ano-calendário|         Competência|       Orçamento|           Descrição|Valor da Receita Tributária|Percentual do PIB|\n",
            "+--------------+--------------------+----------------+--------------------+---------------------------+-----------------+\n",
            "|          2006|Tributos do Gover...|Governo Estadual|                ITCD|                968,9700489|      0,000402154|\n",
            "|          2005|Tributos do Gover...|Governo Estadual|Outros Tributos E...|                8901,803984|      0,004101109|\n",
            "|          2004|Tributos do Gover...|Governo Estadual|                IPVA|                8829,081123|      0,004509808|\n",
            "|          2003|Tributos do Gover...|Governo Estadual|                ITCD|                873,1107554|      0,000508228|\n",
            "|          2019|Tributos do Gover...|Governo Estadual|                ITCD|                 8582,40824|      0,001161491|\n",
            "|          2020|Tributos do Gover...|Governo Estadual|                ITCD|                8521,225141|        0,0011198|\n",
            "|          2003|Tributos do Gover...|Governo Estadual|Contrib. Regime P...|                8219,821442|      0,004784668|\n",
            "|          2005|Tributos do Gover...|Governo Estadual|                ITCD|                816,4920933|      0,000376162|\n",
            "|          2021|Tributos do Gover...|Governo Estadual|Tributos do Gover...|                790017,7706|       0,08877874|\n",
            "|          2003|Tributos do Gover...|Governo Estadual|                IPVA|                7657,020538|      0,004457067|\n",
            "|          2004|Tributos do Gover...|Governo Estadual|Outros Tributos E...|                7653,983362|      0,003909579|\n",
            "|          2002|Tributos do Gover...|Governo Estadual|Contrib. Regime P...|                7368,773095|      0,004949514|\n",
            "|          2004|Tributos do Gover...|Governo Estadual|                ITCD|                736,9079931|      0,000376405|\n",
            "|          2016|Tributos do Gover...|Governo Estadual|                ITCD|                7344,953192|      0,001171569|\n",
            "|          2018|Tributos do Gover...|Governo Estadual|                ITCD|                7330,032802|      0,001046528|\n",
            "|          2017|Tributos do Gover...|Governo Estadual|                ITCD|                7177,679356|      0,001089925|\n",
            "|          2002|Tributos do Gover...|Governo Estadual|                IPVA|                6952,997329|      0,004670242|\n",
            "|          2003|Tributos do Gover...|Governo Estadual|Outros Tributos E...|                 6620,11313|      0,003853495|\n",
            "|          2021|Tributos do Gover...|Governo Estadual|                ICMS|                652283,5885|      0,073300775|\n",
            "|          2015|Tributos do Gover...|Governo Estadual|                ITCD|                6460,679209|      0,001077536|\n",
            "+--------------+--------------------+----------------+--------------------+---------------------------+-----------------+\n",
            "only showing top 20 rows\n",
            "\n"
          ]
        }
      ]
    },
    {
      "cell_type": "markdown",
      "source": [
        "Agrupando por Tributo e Ano-calendário"
      ],
      "metadata": {
        "id": "Bw4GNr6HxBa3"
      }
    },
    {
      "cell_type": "code",
      "source": [
        "from pyspark.sql import functions as F\n",
        "\n",
        "# Agrupando por Tributo e Ano-calendário e somando a Receita Tributária\n",
        "contribuicao_tributos = df.groupBy(\"Descrição\", \"Ano-calendário\") \\\n",
        "                          .agg(F.sum(\"Valor da Receita Tributária\").alias(\"Total Receita Tributária\")) \\\n",
        "                          .orderBy(\"Descrição\", \"Ano-calendário\")\n",
        "\n",
        "# Exibindo o resultado\n",
        "contribuicao_tributos.show(truncate=False)\n"
      ],
      "metadata": {
        "colab": {
          "base_uri": "https://localhost:8080/"
        },
        "id": "rlxqMVCwxAXC",
        "outputId": "9213b0c9-644f-4d99-caa5-ebc05e732c03"
      },
      "execution_count": null,
      "outputs": [
        {
          "output_type": "stream",
          "name": "stdout",
          "text": [
            "+-----------------+--------------+------------------------+\n",
            "|Descrição        |Ano-calendário|Total Receita Tributária|\n",
            "+-----------------+--------------+------------------------+\n",
            "|Cide Combustíveis|2002          |NULL                    |\n",
            "|Cide Combustíveis|2003          |NULL                    |\n",
            "|Cide Combustíveis|2004          |NULL                    |\n",
            "|Cide Combustíveis|2005          |NULL                    |\n",
            "|Cide Combustíveis|2006          |NULL                    |\n",
            "|Cide Combustíveis|2007          |NULL                    |\n",
            "|Cide Combustíveis|2008          |NULL                    |\n",
            "|Cide Combustíveis|2009          |NULL                    |\n",
            "|Cide Combustíveis|2010          |NULL                    |\n",
            "|Cide Combustíveis|2011          |NULL                    |\n",
            "|Cide Combustíveis|2012          |NULL                    |\n",
            "|Cide Combustíveis|2013          |NULL                    |\n",
            "|Cide Combustíveis|2014          |NULL                    |\n",
            "|Cide Combustíveis|2015          |NULL                    |\n",
            "|Cide Combustíveis|2016          |NULL                    |\n",
            "|Cide Combustíveis|2017          |NULL                    |\n",
            "|Cide Combustíveis|2018          |NULL                    |\n",
            "|Cide Combustíveis|2019          |NULL                    |\n",
            "|Cide Combustíveis|2020          |NULL                    |\n",
            "|Cide Combustíveis|2021          |NULL                    |\n",
            "+-----------------+--------------+------------------------+\n",
            "only showing top 20 rows\n",
            "\n"
          ]
        }
      ]
    },
    {
      "cell_type": "code",
      "source": [
        "# Excluindo linhas com valores nulos ou NaN\n",
        "df_sem_null_nan = df.dropna()"
      ],
      "metadata": {
        "id": "Lp-yQFY3zC5Z"
      },
      "execution_count": null,
      "outputs": []
    },
    {
      "cell_type": "markdown",
      "source": [
        "Conversão de Tipos de Dados:\n",
        "\n",
        "colunas para tipos de dados apropriados, por exemplo, converter colunas numéricas de string para float para facilitar operações matemáticas."
      ],
      "metadata": {
        "id": "daW-xqfd13NF"
      }
    },
    {
      "cell_type": "code",
      "source": [
        "from pyspark.sql.types import FloatType\n",
        "\n",
        "df = df.withColumn(\"Valor_Receita_Tributaria\", df[\"Valor_Receita_Tributaria\"].cast(FloatType()))\n",
        "df = df.withColumn(\"Percentual do PIB\", df[\"Percentual do PIB\"].cast(FloatType()))\n"
      ],
      "metadata": {
        "id": "KY1FwxVZ3HzC"
      },
      "execution_count": null,
      "outputs": []
    },
    {
      "cell_type": "markdown",
      "source": [
        "Agrupamento e Agregação:\n",
        "\n",
        "dados por ano, competência ou outra coluna relevante e realizar agregações (como soma, média, máximo, mínimo) para obter insights agregados."
      ],
      "metadata": {
        "id": "6aPgqyW018s7"
      }
    },
    {
      "cell_type": "code",
      "source": [
        "df_agregado = df.groupBy(\"Ano-calendário\").sum(\"Valor da Receita Tributária\")\n"
      ],
      "metadata": {
        "id": "xuE0mzX61_Y3"
      },
      "execution_count": null,
      "outputs": []
    },
    {
      "cell_type": "markdown",
      "source": [
        "Manipulação de Strings:\n",
        "\n",
        "Limpar ou modificar strings em colunas, por exemplo, remover espaços extras ou caracteres especiais, ou extrair informações específicas."
      ],
      "metadata": {
        "id": "kr9OnNyj2D1W"
      }
    },
    {
      "cell_type": "code",
      "source": [
        "from pyspark.sql.functions import trim\n",
        "\n",
        "df = df.withColumn(\"Descrição\", trim(df[\"Descrição\"]))\n"
      ],
      "metadata": {
        "id": "YJ16c2cw2Ebv"
      },
      "execution_count": null,
      "outputs": []
    },
    {
      "cell_type": "markdown",
      "source": [
        "Filtragem de Dados:\n",
        "\n",
        "Filtrar dados com base em condições específicas para focar em subsets relevantes do dataset.\n",
        "Exemplo de comando para filtrar apenas tributos do governo federal:"
      ],
      "metadata": {
        "id": "gIaiUYn22IpT"
      }
    },
    {
      "cell_type": "code",
      "source": [
        "df_federal = df.filter(df[\"Competência\"] == \"Tributos do Governo Federal\")\n"
      ],
      "metadata": {
        "id": "JBHPG-B12JMm"
      },
      "execution_count": null,
      "outputs": []
    },
    {
      "cell_type": "markdown",
      "source": [
        "Ordenação de Dados:\n",
        "\n",
        "Ordenar os dados com base em uma ou mais colunas para facilitar a análise ou apresentação dos resultados.\n",
        "Exemplo de comando para ordenar por valor da receita tributária em ordem decrescente:"
      ],
      "metadata": {
        "id": "vbTg5lb02Tpv"
      }
    },
    {
      "cell_type": "code",
      "source": [
        "df_ordenado = df.orderBy(df[\"Valor da Receita Tributária\"].desc())\n"
      ],
      "metadata": {
        "id": "tjIqm6bd2S5d"
      },
      "execution_count": null,
      "outputs": []
    },
    {
      "cell_type": "markdown",
      "source": [
        "Renomeação de Colunas:\n",
        "\n",
        "Renomear colunas para nomes mais descritivos ou simplificados.\n",
        "Exemplo de comando para renomear uma coluna:"
      ],
      "metadata": {
        "id": "FeU4XKUX2YX0"
      }
    },
    {
      "cell_type": "code",
      "source": [
        "df = df.withColumnRenamed(\"Valor da Receita Tributária\", \"Valor_Receita_Tributaria\")\n"
      ],
      "metadata": {
        "id": "KhEGJN632X0e"
      },
      "execution_count": null,
      "outputs": []
    },
    {
      "cell_type": "markdown",
      "source": [
        "Definição de uma função para formatação de reais"
      ],
      "metadata": {
        "id": "7Mz9Ndi_38g1"
      }
    },
    {
      "cell_type": "code",
      "source": [
        "from pyspark.sql.functions import udf\n",
        "from pyspark.sql.types import StringType\n",
        "\n",
        "def formatar_reais(valor):\n",
        "    if valor is None:\n",
        "        return None\n",
        "    return f\"R${valor:,.2f}\"\n",
        "\n",
        "formatar_reais_udf = udf(formatar_reais, StringType())\n",
        "\n",
        "df = df.withColumn(\"Valor_Receita_Tributaria_Formatado\", formatar_reais_udf(\"Valor_Receita_Tributaria\"))\n"
      ],
      "metadata": {
        "id": "nSrQo3Tr37Vc"
      },
      "execution_count": null,
      "outputs": []
    },
    {
      "cell_type": "markdown",
      "source": [
        "Visualização geral"
      ],
      "metadata": {
        "id": "mzhWibXd4wW1"
      }
    },
    {
      "cell_type": "code",
      "source": [
        "# Contando o número total de registros no DataFrame\n",
        "num_rows = df.count()\n",
        "\n",
        "# Exibindo o total de registros\n",
        "print(f\"Total de registros no dataset: {num_rows}\")\n",
        "\n",
        "# Exibindo a estrutura dos dados\n",
        "print(\"Estrutura dos dados:\")\n",
        "df.printSchema()\n"
      ],
      "metadata": {
        "colab": {
          "base_uri": "https://localhost:8080/"
        },
        "id": "MD88OEVT6M2M",
        "outputId": "00dda2ae-c784-443d-ba44-61e197ab69df"
      },
      "execution_count": null,
      "outputs": [
        {
          "output_type": "stream",
          "name": "stdout",
          "text": [
            "Total de registros no dataset: 920\n",
            "Estrutura dos dados:\n",
            "root\n",
            " |-- Ano-calendário: integer (nullable = true)\n",
            " |-- Competência: string (nullable = true)\n",
            " |-- Orçamento: string (nullable = true)\n",
            " |-- Descrição: string (nullable = true)\n",
            " |-- Valor_Receita_Tributaria: float (nullable = true)\n",
            " |-- Percentual do PIB: float (nullable = true)\n",
            " |-- Receita Formatada: string (nullable = true)\n",
            " |-- Valor_Receita_Tributaria_Formatado: string (nullable = true)\n",
            "\n"
          ]
        }
      ]
    }
  ]
}